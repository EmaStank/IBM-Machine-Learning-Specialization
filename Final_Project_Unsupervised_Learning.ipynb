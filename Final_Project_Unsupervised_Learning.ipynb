{
 "cells": [
  {
   "cell_type": "markdown",
   "metadata": {},
   "source": [
    "<p style=\"text-align:center\">\n",
    "    <a href=\"https://skills.network/?utm_medium=Exinfluencer&utm_source=Exinfluencer&utm_content=000026UJ&utm_term=10006555&utm_id=NA-SkillsNetwork-Channel-SkillsNetworkCoursesIBMDeveloperSkillsNetworkML0101ENSkillsNetwork20718538-2022-01-01\" target=\"_blank\">\n",
    "    <img src=\"https://cf-courses-data.s3.us.cloud-object-storage.appdomain.cloud/assets/logos/SN_web_lightmode.png\" width=\"200\" alt=\"Skills Network Logo\"  />\n",
    "    </a>\n",
    "</p>\n",
    "\n",
    "<h1 align=\"center\"><font size=\"5\">Unsupervised Machine Learning - Final Assignment</font></h1>\n"
   ]
  },
  {
   "cell_type": "markdown",
   "metadata": {},
   "source": [
    "In this assignment, we'll employ unsupervised techniques to classify our data. We'll then dive into linear regression to investigate whether our predictions are more accurate when applied to the entire dataset or when broken down into groups derived from the classification process."
   ]
  },
  {
   "cell_type": "markdown",
   "metadata": {},
   "source": [
    "## Install and import required libraries"
   ]
  },
  {
   "cell_type": "code",
   "execution_count": 1,
   "metadata": {
    "tags": []
   },
   "outputs": [
    {
     "name": "stdout",
     "output_type": "stream",
     "text": [
      "Collecting gower\n",
      "  Downloading gower-0.1.2-py3-none-any.whl (5.2 kB)\n",
      "Requirement already satisfied: numpy in /home/jupyterlab/conda/envs/python/lib/python3.7/site-packages (from gower) (1.21.6)\n",
      "Requirement already satisfied: scipy in /home/jupyterlab/conda/envs/python/lib/python3.7/site-packages (from gower) (1.7.3)\n",
      "Installing collected packages: gower\n",
      "Successfully installed gower-0.1.2\n"
     ]
    }
   ],
   "source": [
    "!pip install gower"
   ]
  },
  {
   "cell_type": "code",
   "execution_count": 2,
   "metadata": {
    "tags": []
   },
   "outputs": [],
   "source": [
    "#suppres warnings\n",
    "\n",
    "def warn(*args, **kwargs):\n",
    "    pass\n",
    "import warnings\n",
    "warnings.warn = warn"
   ]
  },
  {
   "cell_type": "code",
   "execution_count": 3,
   "metadata": {
    "tags": []
   },
   "outputs": [],
   "source": [
    "import pandas as pd\n",
    "import numpy as np\n",
    "import matplotlib.pyplot as plt\n",
    "from sklearn.preprocessing import StandardScaler\n",
    "from scipy.stats.mstats import normaltest\n",
    "from sklearn.decomposition import PCA\n",
    "from sklearn.cluster import KMeans\n",
    "from sklearn.cluster import DBSCAN\n",
    "from sklearn import metrics\n",
    "from sklearn.cluster import AgglomerativeClustering\n",
    "from gower import gower_matrix\n",
    "from scipy.cluster.hierarchy import dendrogram, linkage\n",
    "from scipy.spatial.distance import squareform\n",
    "from sklearn.linear_model import LinearRegression\n",
    "from sklearn.metrics import mean_absolute_error, r2_score"
   ]
  },
  {
   "cell_type": "markdown",
   "metadata": {},
   "source": [
    "## Importing the Dataset\n"
   ]
  },
  {
   "cell_type": "markdown",
   "metadata": {},
   "source": [
    "We will use E-shop clothing dataset* that contains information on clickstream from online store offering clothing for pregnant women. Data are from five months of 2008 and include, among others, product category, location of the photo on the page, country of origin of the IP address and product price in US dollars."
   ]
  },
  {
   "cell_type": "code",
   "execution_count": 4,
   "metadata": {
    "tags": []
   },
   "outputs": [
    {
     "data": {
      "text/html": [
       "<div>\n",
       "<style scoped>\n",
       "    .dataframe tbody tr th:only-of-type {\n",
       "        vertical-align: middle;\n",
       "    }\n",
       "\n",
       "    .dataframe tbody tr th {\n",
       "        vertical-align: top;\n",
       "    }\n",
       "\n",
       "    .dataframe thead th {\n",
       "        text-align: right;\n",
       "    }\n",
       "</style>\n",
       "<table border=\"1\" class=\"dataframe\">\n",
       "  <thead>\n",
       "    <tr style=\"text-align: right;\">\n",
       "      <th></th>\n",
       "      <th>year</th>\n",
       "      <th>month</th>\n",
       "      <th>day</th>\n",
       "      <th>order</th>\n",
       "      <th>country</th>\n",
       "      <th>session ID</th>\n",
       "      <th>page 1 (main category)</th>\n",
       "      <th>page 2 (clothing model)</th>\n",
       "      <th>colour</th>\n",
       "      <th>location</th>\n",
       "      <th>model photography</th>\n",
       "      <th>price</th>\n",
       "      <th>price 2</th>\n",
       "      <th>page</th>\n",
       "    </tr>\n",
       "  </thead>\n",
       "  <tbody>\n",
       "    <tr>\n",
       "      <th>0</th>\n",
       "      <td>2008</td>\n",
       "      <td>4</td>\n",
       "      <td>1</td>\n",
       "      <td>1</td>\n",
       "      <td>29</td>\n",
       "      <td>1</td>\n",
       "      <td>1</td>\n",
       "      <td>A13</td>\n",
       "      <td>1</td>\n",
       "      <td>5</td>\n",
       "      <td>1</td>\n",
       "      <td>28</td>\n",
       "      <td>2</td>\n",
       "      <td>1</td>\n",
       "    </tr>\n",
       "    <tr>\n",
       "      <th>1</th>\n",
       "      <td>2008</td>\n",
       "      <td>4</td>\n",
       "      <td>1</td>\n",
       "      <td>2</td>\n",
       "      <td>29</td>\n",
       "      <td>1</td>\n",
       "      <td>1</td>\n",
       "      <td>A16</td>\n",
       "      <td>1</td>\n",
       "      <td>6</td>\n",
       "      <td>1</td>\n",
       "      <td>33</td>\n",
       "      <td>2</td>\n",
       "      <td>1</td>\n",
       "    </tr>\n",
       "    <tr>\n",
       "      <th>2</th>\n",
       "      <td>2008</td>\n",
       "      <td>4</td>\n",
       "      <td>1</td>\n",
       "      <td>3</td>\n",
       "      <td>29</td>\n",
       "      <td>1</td>\n",
       "      <td>2</td>\n",
       "      <td>B4</td>\n",
       "      <td>10</td>\n",
       "      <td>2</td>\n",
       "      <td>1</td>\n",
       "      <td>52</td>\n",
       "      <td>1</td>\n",
       "      <td>1</td>\n",
       "    </tr>\n",
       "    <tr>\n",
       "      <th>3</th>\n",
       "      <td>2008</td>\n",
       "      <td>4</td>\n",
       "      <td>1</td>\n",
       "      <td>4</td>\n",
       "      <td>29</td>\n",
       "      <td>1</td>\n",
       "      <td>2</td>\n",
       "      <td>B17</td>\n",
       "      <td>6</td>\n",
       "      <td>6</td>\n",
       "      <td>2</td>\n",
       "      <td>38</td>\n",
       "      <td>2</td>\n",
       "      <td>1</td>\n",
       "    </tr>\n",
       "    <tr>\n",
       "      <th>4</th>\n",
       "      <td>2008</td>\n",
       "      <td>4</td>\n",
       "      <td>1</td>\n",
       "      <td>5</td>\n",
       "      <td>29</td>\n",
       "      <td>1</td>\n",
       "      <td>2</td>\n",
       "      <td>B8</td>\n",
       "      <td>4</td>\n",
       "      <td>3</td>\n",
       "      <td>2</td>\n",
       "      <td>52</td>\n",
       "      <td>1</td>\n",
       "      <td>1</td>\n",
       "    </tr>\n",
       "  </tbody>\n",
       "</table>\n",
       "</div>"
      ],
      "text/plain": [
       "   year  month  day  order  country  session ID  page 1 (main category)  \\\n",
       "0  2008      4    1      1       29           1                       1   \n",
       "1  2008      4    1      2       29           1                       1   \n",
       "2  2008      4    1      3       29           1                       2   \n",
       "3  2008      4    1      4       29           1                       2   \n",
       "4  2008      4    1      5       29           1                       2   \n",
       "\n",
       "  page 2 (clothing model)  colour  location  model photography  price  \\\n",
       "0                     A13       1         5                  1     28   \n",
       "1                     A16       1         6                  1     33   \n",
       "2                      B4      10         2                  1     52   \n",
       "3                     B17       6         6                  2     38   \n",
       "4                      B8       4         3                  2     52   \n",
       "\n",
       "   price 2  page  \n",
       "0        2     1  \n",
       "1        2     1  \n",
       "2        1     1  \n",
       "3        2     1  \n",
       "4        1     1  "
      ]
     },
     "execution_count": 4,
     "metadata": {},
     "output_type": "execute_result"
    }
   ],
   "source": [
    "data = pd.read_csv('e_shop_clothing.csv', sep=';')\n",
    "data.head()"
   ]
  },
  {
   "cell_type": "code",
   "execution_count": 5,
   "metadata": {
    "tags": []
   },
   "outputs": [
    {
     "data": {
      "text/plain": [
       "(165474, 14)"
      ]
     },
     "execution_count": 5,
     "metadata": {},
     "output_type": "execute_result"
    }
   ],
   "source": [
    "data.shape"
   ]
  },
  {
   "cell_type": "code",
   "execution_count": 6,
   "metadata": {
    "tags": []
   },
   "outputs": [],
   "source": [
    "#Random sample 10000 observations from dataset\n",
    "\n",
    "df = data.sample(n=10000, random_state=42).reset_index(drop=True)"
   ]
  },
  {
   "cell_type": "markdown",
   "metadata": {
    "tags": []
   },
   "source": [
    "For simplicity, we will use 10,000 random observations."
   ]
  },
  {
   "cell_type": "markdown",
   "metadata": {},
   "source": [
    "# 1. About the Data\n"
   ]
  },
  {
   "cell_type": "markdown",
   "metadata": {},
   "source": [
    "In this section, we'll perform exploratory data analysis and feature engineering"
   ]
  },
  {
   "cell_type": "code",
   "execution_count": 7,
   "metadata": {
    "tags": []
   },
   "outputs": [
    {
     "name": "stdout",
     "output_type": "stream",
     "text": [
      "year                        int64\n",
      "month                       int64\n",
      "day                         int64\n",
      "order                       int64\n",
      "country                     int64\n",
      "session ID                  int64\n",
      "page 1 (main category)      int64\n",
      "page 2 (clothing model)    object\n",
      "colour                      int64\n",
      "location                    int64\n",
      "model photography           int64\n",
      "price                       int64\n",
      "price 2                     int64\n",
      "page                        int64\n",
      "dtype: object\n"
     ]
    }
   ],
   "source": [
    "print(data.dtypes)"
   ]
  },
  {
   "cell_type": "code",
   "execution_count": 8,
   "metadata": {
    "tags": []
   },
   "outputs": [
    {
     "data": {
      "text/html": [
       "<div>\n",
       "<style scoped>\n",
       "    .dataframe tbody tr th:only-of-type {\n",
       "        vertical-align: middle;\n",
       "    }\n",
       "\n",
       "    .dataframe tbody tr th {\n",
       "        vertical-align: top;\n",
       "    }\n",
       "\n",
       "    .dataframe thead th {\n",
       "        text-align: right;\n",
       "    }\n",
       "</style>\n",
       "<table border=\"1\" class=\"dataframe\">\n",
       "  <thead>\n",
       "    <tr style=\"text-align: right;\">\n",
       "      <th></th>\n",
       "      <th>year</th>\n",
       "      <th>month</th>\n",
       "      <th>day</th>\n",
       "      <th>order</th>\n",
       "      <th>country</th>\n",
       "      <th>session ID</th>\n",
       "      <th>page 1 (main category)</th>\n",
       "      <th>colour</th>\n",
       "      <th>location</th>\n",
       "      <th>model photography</th>\n",
       "      <th>price</th>\n",
       "      <th>price 2</th>\n",
       "      <th>page</th>\n",
       "    </tr>\n",
       "  </thead>\n",
       "  <tbody>\n",
       "    <tr>\n",
       "      <th>count</th>\n",
       "      <td>10000.0</td>\n",
       "      <td>10000.000000</td>\n",
       "      <td>10000.000000</td>\n",
       "      <td>10000.000000</td>\n",
       "      <td>10000.000000</td>\n",
       "      <td>10000.000000</td>\n",
       "      <td>10000.000000</td>\n",
       "      <td>10000.000000</td>\n",
       "      <td>10000.000000</td>\n",
       "      <td>10000.000000</td>\n",
       "      <td>10000.000000</td>\n",
       "      <td>10000.00000</td>\n",
       "      <td>10000.000000</td>\n",
       "    </tr>\n",
       "    <tr>\n",
       "      <th>mean</th>\n",
       "      <td>2008.0</td>\n",
       "      <td>5.599600</td>\n",
       "      <td>14.417000</td>\n",
       "      <td>9.790100</td>\n",
       "      <td>27.064500</td>\n",
       "      <td>12111.922000</td>\n",
       "      <td>2.397000</td>\n",
       "      <td>6.238700</td>\n",
       "      <td>3.241400</td>\n",
       "      <td>1.257400</td>\n",
       "      <td>43.902400</td>\n",
       "      <td>1.48930</td>\n",
       "      <td>1.707900</td>\n",
       "    </tr>\n",
       "    <tr>\n",
       "      <th>std</th>\n",
       "      <td>0.0</td>\n",
       "      <td>1.337183</td>\n",
       "      <td>8.840833</td>\n",
       "      <td>13.667974</td>\n",
       "      <td>6.988306</td>\n",
       "      <td>7022.021845</td>\n",
       "      <td>1.149401</td>\n",
       "      <td>4.207481</td>\n",
       "      <td>1.705701</td>\n",
       "      <td>0.437223</td>\n",
       "      <td>12.669938</td>\n",
       "      <td>0.49991</td>\n",
       "      <td>0.977688</td>\n",
       "    </tr>\n",
       "    <tr>\n",
       "      <th>min</th>\n",
       "      <td>2008.0</td>\n",
       "      <td>4.000000</td>\n",
       "      <td>1.000000</td>\n",
       "      <td>1.000000</td>\n",
       "      <td>3.000000</td>\n",
       "      <td>2.000000</td>\n",
       "      <td>1.000000</td>\n",
       "      <td>1.000000</td>\n",
       "      <td>1.000000</td>\n",
       "      <td>1.000000</td>\n",
       "      <td>18.000000</td>\n",
       "      <td>1.00000</td>\n",
       "      <td>1.000000</td>\n",
       "    </tr>\n",
       "    <tr>\n",
       "      <th>25%</th>\n",
       "      <td>2008.0</td>\n",
       "      <td>4.000000</td>\n",
       "      <td>7.000000</td>\n",
       "      <td>2.000000</td>\n",
       "      <td>29.000000</td>\n",
       "      <td>6033.750000</td>\n",
       "      <td>1.000000</td>\n",
       "      <td>3.000000</td>\n",
       "      <td>2.000000</td>\n",
       "      <td>1.000000</td>\n",
       "      <td>33.000000</td>\n",
       "      <td>1.00000</td>\n",
       "      <td>1.000000</td>\n",
       "    </tr>\n",
       "    <tr>\n",
       "      <th>50%</th>\n",
       "      <td>2008.0</td>\n",
       "      <td>5.000000</td>\n",
       "      <td>14.000000</td>\n",
       "      <td>6.000000</td>\n",
       "      <td>29.000000</td>\n",
       "      <td>11959.000000</td>\n",
       "      <td>2.000000</td>\n",
       "      <td>5.000000</td>\n",
       "      <td>3.000000</td>\n",
       "      <td>1.000000</td>\n",
       "      <td>43.000000</td>\n",
       "      <td>1.00000</td>\n",
       "      <td>1.000000</td>\n",
       "    </tr>\n",
       "    <tr>\n",
       "      <th>75%</th>\n",
       "      <td>2008.0</td>\n",
       "      <td>7.000000</td>\n",
       "      <td>22.000000</td>\n",
       "      <td>12.000000</td>\n",
       "      <td>29.000000</td>\n",
       "      <td>18278.750000</td>\n",
       "      <td>3.000000</td>\n",
       "      <td>9.000000</td>\n",
       "      <td>5.000000</td>\n",
       "      <td>2.000000</td>\n",
       "      <td>52.000000</td>\n",
       "      <td>2.00000</td>\n",
       "      <td>2.000000</td>\n",
       "    </tr>\n",
       "    <tr>\n",
       "      <th>max</th>\n",
       "      <td>2008.0</td>\n",
       "      <td>8.000000</td>\n",
       "      <td>31.000000</td>\n",
       "      <td>193.000000</td>\n",
       "      <td>47.000000</td>\n",
       "      <td>24023.000000</td>\n",
       "      <td>4.000000</td>\n",
       "      <td>14.000000</td>\n",
       "      <td>6.000000</td>\n",
       "      <td>2.000000</td>\n",
       "      <td>82.000000</td>\n",
       "      <td>2.00000</td>\n",
       "      <td>5.000000</td>\n",
       "    </tr>\n",
       "  </tbody>\n",
       "</table>\n",
       "</div>"
      ],
      "text/plain": [
       "          year         month           day         order       country  \\\n",
       "count  10000.0  10000.000000  10000.000000  10000.000000  10000.000000   \n",
       "mean    2008.0      5.599600     14.417000      9.790100     27.064500   \n",
       "std        0.0      1.337183      8.840833     13.667974      6.988306   \n",
       "min     2008.0      4.000000      1.000000      1.000000      3.000000   \n",
       "25%     2008.0      4.000000      7.000000      2.000000     29.000000   \n",
       "50%     2008.0      5.000000     14.000000      6.000000     29.000000   \n",
       "75%     2008.0      7.000000     22.000000     12.000000     29.000000   \n",
       "max     2008.0      8.000000     31.000000    193.000000     47.000000   \n",
       "\n",
       "         session ID  page 1 (main category)        colour      location  \\\n",
       "count  10000.000000            10000.000000  10000.000000  10000.000000   \n",
       "mean   12111.922000                2.397000      6.238700      3.241400   \n",
       "std     7022.021845                1.149401      4.207481      1.705701   \n",
       "min        2.000000                1.000000      1.000000      1.000000   \n",
       "25%     6033.750000                1.000000      3.000000      2.000000   \n",
       "50%    11959.000000                2.000000      5.000000      3.000000   \n",
       "75%    18278.750000                3.000000      9.000000      5.000000   \n",
       "max    24023.000000                4.000000     14.000000      6.000000   \n",
       "\n",
       "       model photography         price      price 2          page  \n",
       "count       10000.000000  10000.000000  10000.00000  10000.000000  \n",
       "mean            1.257400     43.902400      1.48930      1.707900  \n",
       "std             0.437223     12.669938      0.49991      0.977688  \n",
       "min             1.000000     18.000000      1.00000      1.000000  \n",
       "25%             1.000000     33.000000      1.00000      1.000000  \n",
       "50%             1.000000     43.000000      1.00000      1.000000  \n",
       "75%             2.000000     52.000000      2.00000      2.000000  \n",
       "max             2.000000     82.000000      2.00000      5.000000  "
      ]
     },
     "execution_count": 8,
     "metadata": {},
     "output_type": "execute_result"
    }
   ],
   "source": [
    "df.describe()"
   ]
  },
  {
   "cell_type": "code",
   "execution_count": 9,
   "metadata": {
    "tags": []
   },
   "outputs": [
    {
     "data": {
      "text/plain": [
       "year                       0\n",
       "month                      0\n",
       "day                        0\n",
       "order                      0\n",
       "country                    0\n",
       "session ID                 0\n",
       "page 1 (main category)     0\n",
       "page 2 (clothing model)    0\n",
       "colour                     0\n",
       "location                   0\n",
       "model photography          0\n",
       "price                      0\n",
       "price 2                    0\n",
       "page                       0\n",
       "dtype: int64"
      ]
     },
     "execution_count": 9,
     "metadata": {},
     "output_type": "execute_result"
    }
   ],
   "source": [
    "data.isnull().sum() #no null values"
   ]
  },
  {
   "cell_type": "code",
   "execution_count": 10,
   "metadata": {
    "tags": []
   },
   "outputs": [
    {
     "data": {
      "text/html": [
       "<div>\n",
       "<style scoped>\n",
       "    .dataframe tbody tr th:only-of-type {\n",
       "        vertical-align: middle;\n",
       "    }\n",
       "\n",
       "    .dataframe tbody tr th {\n",
       "        vertical-align: top;\n",
       "    }\n",
       "\n",
       "    .dataframe thead th {\n",
       "        text-align: right;\n",
       "    }\n",
       "</style>\n",
       "<table border=\"1\" class=\"dataframe\">\n",
       "  <thead>\n",
       "    <tr style=\"text-align: right;\">\n",
       "      <th></th>\n",
       "      <th>year</th>\n",
       "      <th>month</th>\n",
       "      <th>day</th>\n",
       "      <th>order</th>\n",
       "      <th>country</th>\n",
       "      <th>session ID</th>\n",
       "      <th>page 1 (main category)</th>\n",
       "      <th>page 2 (clothing model)</th>\n",
       "      <th>colour</th>\n",
       "      <th>location</th>\n",
       "      <th>model photography</th>\n",
       "      <th>price</th>\n",
       "      <th>price 2</th>\n",
       "      <th>page</th>\n",
       "    </tr>\n",
       "  </thead>\n",
       "  <tbody>\n",
       "  </tbody>\n",
       "</table>\n",
       "</div>"
      ],
      "text/plain": [
       "Empty DataFrame\n",
       "Columns: [year, month, day, order, country, session ID, page 1 (main category), page 2 (clothing model), colour, location, model photography, price, price 2, page]\n",
       "Index: []"
      ]
     },
     "execution_count": 10,
     "metadata": {},
     "output_type": "execute_result"
    }
   ],
   "source": [
    "#checking for duplicates\n",
    "\n",
    "duplicate = df[df.duplicated()]\n",
    "duplicate   #no duplicates"
   ]
  },
  {
   "cell_type": "code",
   "execution_count": 11,
   "metadata": {
    "tags": []
   },
   "outputs": [],
   "source": [
    "#remove year and session ID columns\n",
    "\n",
    "df = df.drop(columns=['year', 'session ID', 'page 2 (clothing model)'])"
   ]
  },
  {
   "cell_type": "markdown",
   "metadata": {},
   "source": [
    "Based on our observation, it appears that our dataset is quite clean. There are no null values or duplicates to worry about. Most of the variables are numerical, except for the clothing model, which is stored as a string.\n",
    "\n",
    "To streamline our analysis and focus on the most informative variables, we have decided to remove the \"year,\" \"session id,\" and \"clothing model\" columns from the dataset. These columns do not contribute significant information to our analysis, so removing them will help simplify our data and make it more concise for further exploration."
   ]
  },
  {
   "cell_type": "code",
   "execution_count": 12,
   "metadata": {
    "tags": []
   },
   "outputs": [
    {
     "name": "stdout",
     "output_type": "stream",
     "text": [
      "month                       5\n",
      "day                        31\n",
      "order                     124\n",
      "country                    33\n",
      "page 1 (main category)      4\n",
      "colour                     14\n",
      "location                    6\n",
      "model photography           2\n",
      "price                      20\n",
      "price 2                     2\n",
      "page                        5\n",
      "dtype: int64\n"
     ]
    }
   ],
   "source": [
    "#number of unique values per column\n",
    "\n",
    "unique_counts = df.nunique()\n",
    "print(unique_counts)"
   ]
  },
  {
   "cell_type": "code",
   "execution_count": 13,
   "metadata": {
    "tags": []
   },
   "outputs": [
    {
     "name": "stdout",
     "output_type": "stream",
     "text": [
      "Value counts for 'month':\n",
      "4    2883\n",
      "5    2184\n",
      "7    2126\n",
      "6    1897\n",
      "8     910\n",
      "Name: month, dtype: int64\n",
      "\n",
      "Value counts for 'country':\n",
      "29    8135\n",
      "9     1026\n",
      "24     251\n",
      "46     159\n",
      "44      68\n",
      "16      68\n",
      "21      65\n",
      "34      49\n",
      "41      43\n",
      "42      13\n",
      "3       12\n",
      "27      12\n",
      "12      11\n",
      "15      10\n",
      "22       9\n",
      "10       8\n",
      "28       7\n",
      "37       7\n",
      "31       7\n",
      "11       6\n",
      "38       6\n",
      "25       5\n",
      "23       4\n",
      "39       4\n",
      "43       4\n",
      "32       3\n",
      "14       2\n",
      "19       1\n",
      "6        1\n",
      "40       1\n",
      "36       1\n",
      "35       1\n",
      "47       1\n",
      "Name: country, dtype: int64\n",
      "\n",
      "Value counts for 'page 1 (main category)':\n",
      "1    3032\n",
      "4    2376\n",
      "2    2342\n",
      "3    2250\n",
      "Name: page 1 (main category), dtype: int64\n",
      "\n",
      "Value counts for 'colour':\n",
      "3     1789\n",
      "2     1733\n",
      "6     1096\n",
      "4      998\n",
      "14     951\n",
      "9      833\n",
      "12     523\n",
      "1      464\n",
      "7      437\n",
      "13     374\n",
      "11     314\n",
      "10     225\n",
      "8      165\n",
      "5       98\n",
      "Name: colour, dtype: int64\n",
      "\n",
      "Value counts for 'location':\n",
      "2    2074\n",
      "1    2068\n",
      "4    1649\n",
      "5    1623\n",
      "3    1343\n",
      "6    1243\n",
      "Name: location, dtype: int64\n",
      "\n",
      "Value counts for 'model photography':\n",
      "1    7426\n",
      "2    2574\n",
      "Name: model photography, dtype: int64\n",
      "\n",
      "Value counts for 'price 2':\n",
      "1    5107\n",
      "2    4893\n",
      "Name: price 2, dtype: int64\n",
      "\n",
      "Value counts for 'page':\n",
      "1    5640\n",
      "2    2502\n",
      "3    1162\n",
      "4     531\n",
      "5     165\n",
      "Name: page, dtype: int64\n",
      "\n"
     ]
    }
   ],
   "source": [
    "#distribution of categorical values\n",
    "\n",
    "categorical_columns = ['month','country','page 1 (main category)','colour',\n",
    "                  'location','model photography','price 2','page']\n",
    "\n",
    "for column in categorical_columns:\n",
    "    print(f\"Value counts for '{column}':\")\n",
    "    print(df[column].value_counts())\n",
    "    print()"
   ]
  },
  {
   "cell_type": "markdown",
   "metadata": {},
   "source": [
    "In our dataset categorical values are encoded using integers. However, it's important to note that there is no inherent hierarchy or order among these integer-encoded values. Therefore, we have made the decision to treat these variables as categorical rather than numerical."
   ]
  },
  {
   "cell_type": "code",
   "execution_count": 14,
   "metadata": {
    "tags": []
   },
   "outputs": [
    {
     "data": {
      "image/png": "[encoded data removed]",
      "text/plain": [
       "<Figure size 1200x1500 with 8 Axes>"
      ]
     },
     "metadata": {},
     "output_type": "display_data"
    }
   ],
   "source": [
    "#categorical data distribution\n",
    "\n",
    "fig, axes = plt.subplots(nrows=4, ncols=2, figsize=(12, 15))\n",
    "\n",
    "for i, column in enumerate(categorical_columns):\n",
    "    row = i // 2\n",
    "    col = i % 2\n",
    "\n",
    "    # Create a bar plot in the appropriate subplot\n",
    "    df[column].value_counts().plot.bar(ax=axes[row, col])\n",
    "    axes[row, col].set_title(f\"Bar plot for '{column}'\")\n",
    "    axes[row, col].set_xlabel(column)\n",
    "    axes[row, col].set_ylabel(\"Count\")\n",
    "\n",
    "plt.tight_layout()\n",
    "plt.show()"
   ]
  },
  {
   "cell_type": "markdown",
   "metadata": {},
   "source": [
    "From the graphs above, it is evident that the distribution of categorical variables in our dataset is highly skewed or, in some cases, close to uniform."
   ]
  },
  {
   "cell_type": "code",
   "execution_count": 15,
   "metadata": {
    "tags": []
   },
   "outputs": [
    {
     "data": {
      "image/png": "[encoded data removed]",
      "text/plain": [
       "<Figure size 1200x1200 with 3 Axes>"
      ]
     },
     "metadata": {},
     "output_type": "display_data"
    }
   ],
   "source": [
    "#distribution of numerical variables\n",
    "\n",
    "numerical_columns = ['day','order','price']\n",
    "\n",
    "# Set up the grid layout\n",
    "num_rows = 2\n",
    "num_cols = 2\n",
    "fig, axes = plt.subplots(num_rows, num_cols, figsize=(12, 12))\n",
    "\n",
    "# Iterate over the numerical columns and plot kde plots\n",
    "for i, column in enumerate(numerical_columns):\n",
    "    row = i // num_cols\n",
    "    col = i % num_cols\n",
    "    \n",
    "    # Create a kde plot\n",
    "    df[column].value_counts().plot.kde(ax=axes[row, col])\n",
    "    axes[row, col].set_title(f\"Kernel Density Plot for '{column}'\")\n",
    "    axes[row, col].set_xlabel(\"Values\")\n",
    "    axes[row, col].set_ylabel(\"Density\")\n",
    "\n",
    "# Remove empty subplots if the number of categorical columns is less than 3x4\n",
    "if len(numerical_columns) < num_rows * num_cols:\n",
    "    for i in range(len(numerical_columns), num_rows * num_cols):\n",
    "        row = i // num_cols\n",
    "        col = i % num_cols\n",
    "        fig.delaxes(axes[row, col])\n",
    "\n",
    "# Adjust the spacing between subplots\n",
    "plt.tight_layout()\n",
    "\n",
    "# Show the plot\n",
    "plt.show()  "
   ]
  },
  {
   "cell_type": "code",
   "execution_count": 16,
   "metadata": {
    "tags": []
   },
   "outputs": [],
   "source": [
    "df = df.drop('country', axis=1)"
   ]
  },
  {
   "cell_type": "markdown",
   "metadata": {},
   "source": [
    "After careful consideration, we have decided to drop the \"country\" variable from our dataset. The reason behind this decision is that the variable contains a large number of unique values, which would result in too many categories if included in our classification task."
   ]
  },
  {
   "cell_type": "code",
   "execution_count": 17,
   "metadata": {
    "tags": []
   },
   "outputs": [],
   "source": [
    "#One-hot-encoding of categorical variables\n",
    "\n",
    "df = pd.get_dummies(df, columns=['month', 'page 1 (main category)', 'colour', 'location',\n",
    "                                'model photography','price 2'], drop_first=True)"
   ]
  },
  {
   "cell_type": "code",
   "execution_count": 18,
   "metadata": {
    "tags": []
   },
   "outputs": [
    {
     "data": {
      "text/html": [
       "<div>\n",
       "<style scoped>\n",
       "    .dataframe tbody tr th:only-of-type {\n",
       "        vertical-align: middle;\n",
       "    }\n",
       "\n",
       "    .dataframe tbody tr th {\n",
       "        vertical-align: top;\n",
       "    }\n",
       "\n",
       "    .dataframe thead th {\n",
       "        text-align: right;\n",
       "    }\n",
       "</style>\n",
       "<table border=\"1\" class=\"dataframe\">\n",
       "  <thead>\n",
       "    <tr style=\"text-align: right;\">\n",
       "      <th></th>\n",
       "      <th>Skew</th>\n",
       "    </tr>\n",
       "  </thead>\n",
       "  <tbody>\n",
       "    <tr>\n",
       "      <th>order</th>\n",
       "      <td>4.468848</td>\n",
       "    </tr>\n",
       "    <tr>\n",
       "      <th>page</th>\n",
       "      <td>1.375776</td>\n",
       "    </tr>\n",
       "    <tr>\n",
       "      <th>price</th>\n",
       "      <td>0.522185</td>\n",
       "    </tr>\n",
       "    <tr>\n",
       "      <th>day</th>\n",
       "      <td>0.175620</td>\n",
       "    </tr>\n",
       "  </tbody>\n",
       "</table>\n",
       "</div>"
      ],
      "text/plain": [
       "           Skew\n",
       "order  4.468848\n",
       "page   1.375776\n",
       "price  0.522185\n",
       "day    0.175620"
      ]
     },
     "execution_count": 18,
     "metadata": {},
     "output_type": "execute_result"
    }
   ],
   "source": [
    "#Skewness analysis\n",
    "\n",
    "numerical_columns = df.select_dtypes(include=['float', 'int']).columns\n",
    "\n",
    "skew_vals = data[numerical_columns].skew()\n",
    "\n",
    "skew_cols = (skew_vals\n",
    "             .sort_values(ascending=False)\n",
    "             .to_frame()\n",
    "             .rename(columns={0:'Skew'}))\n",
    "\n",
    "skew_cols"
   ]
  },
  {
   "cell_type": "code",
   "execution_count": 19,
   "metadata": {
    "tags": []
   },
   "outputs": [
    {
     "data": {
      "text/plain": [
       "NormaltestResult(statistic=6349.89335349794, pvalue=0.0)"
      ]
     },
     "execution_count": 19,
     "metadata": {},
     "output_type": "execute_result"
    }
   ],
   "source": [
    "log_transform = np.log1p(data['order'])\n",
    "normaltest(log_transform)"
   ]
  },
  {
   "cell_type": "code",
   "execution_count": 20,
   "metadata": {
    "tags": []
   },
   "outputs": [
    {
     "data": {
      "text/plain": [
       "NormaltestResult(statistic=18371.122660002115, pvalue=0.0)"
      ]
     },
     "execution_count": 20,
     "metadata": {},
     "output_type": "execute_result"
    }
   ],
   "source": [
    "log_transform = np.log1p(data['page'])\n",
    "normaltest(log_transform)"
   ]
  },
  {
   "cell_type": "code",
   "execution_count": 21,
   "metadata": {
    "tags": []
   },
   "outputs": [],
   "source": [
    "data['order'] = np.log(data['order'])\n",
    "data['page'] = np.log(data['page'])"
   ]
  },
  {
   "cell_type": "markdown",
   "metadata": {},
   "source": [
    "Based on the analysis of skewness, it has been determined that the variables \"order\" and \"page\" in our dataset exhibit a non-normal distribution. In order to address this issue and make the distributions more symmetric, we have decided to perform a log transformation on these variables."
   ]
  },
  {
   "cell_type": "code",
   "execution_count": 22,
   "metadata": {
    "tags": []
   },
   "outputs": [],
   "source": [
    "#Use of StandardScaler to scale the data\n",
    "\n",
    "scaler = StandardScaler()\n",
    "scaled_data = scaler.fit_transform(df[numerical_columns])\n",
    "scaled_data = pd.DataFrame(scaled_data, columns=numerical_columns)"
   ]
  },
  {
   "cell_type": "code",
   "execution_count": 23,
   "metadata": {
    "tags": []
   },
   "outputs": [],
   "source": [
    "df[numerical_columns] = scaled_data"
   ]
  },
  {
   "cell_type": "code",
   "execution_count": 24,
   "metadata": {
    "tags": []
   },
   "outputs": [
    {
     "data": {
      "text/html": [
       "<div>\n",
       "<style scoped>\n",
       "    .dataframe tbody tr th:only-of-type {\n",
       "        vertical-align: middle;\n",
       "    }\n",
       "\n",
       "    .dataframe tbody tr th {\n",
       "        vertical-align: top;\n",
       "    }\n",
       "\n",
       "    .dataframe thead th {\n",
       "        text-align: right;\n",
       "    }\n",
       "</style>\n",
       "<table border=\"1\" class=\"dataframe\">\n",
       "  <thead>\n",
       "    <tr style=\"text-align: right;\">\n",
       "      <th></th>\n",
       "      <th>day</th>\n",
       "      <th>order</th>\n",
       "      <th>price</th>\n",
       "      <th>page</th>\n",
       "      <th>month_5</th>\n",
       "      <th>month_6</th>\n",
       "      <th>month_7</th>\n",
       "      <th>month_8</th>\n",
       "      <th>page 1 (main category)_2</th>\n",
       "      <th>page 1 (main category)_3</th>\n",
       "      <th>...</th>\n",
       "      <th>colour_12</th>\n",
       "      <th>colour_13</th>\n",
       "      <th>colour_14</th>\n",
       "      <th>location_2</th>\n",
       "      <th>location_3</th>\n",
       "      <th>location_4</th>\n",
       "      <th>location_5</th>\n",
       "      <th>location_6</th>\n",
       "      <th>model photography_2</th>\n",
       "      <th>price 2_2</th>\n",
       "    </tr>\n",
       "  </thead>\n",
       "  <tbody>\n",
       "    <tr>\n",
       "      <th>0</th>\n",
       "      <td>0.857768</td>\n",
       "      <td>-0.423647</td>\n",
       "      <td>-0.860537</td>\n",
       "      <td>1.321654</td>\n",
       "      <td>0</td>\n",
       "      <td>0</td>\n",
       "      <td>0</td>\n",
       "      <td>0</td>\n",
       "      <td>0</td>\n",
       "      <td>0</td>\n",
       "      <td>...</td>\n",
       "      <td>0</td>\n",
       "      <td>0</td>\n",
       "      <td>0</td>\n",
       "      <td>0</td>\n",
       "      <td>0</td>\n",
       "      <td>1</td>\n",
       "      <td>0</td>\n",
       "      <td>0</td>\n",
       "      <td>1</td>\n",
       "      <td>1</td>\n",
       "    </tr>\n",
       "    <tr>\n",
       "      <th>1</th>\n",
       "      <td>0.518416</td>\n",
       "      <td>-0.643149</td>\n",
       "      <td>-0.860537</td>\n",
       "      <td>-0.724092</td>\n",
       "      <td>1</td>\n",
       "      <td>0</td>\n",
       "      <td>0</td>\n",
       "      <td>0</td>\n",
       "      <td>0</td>\n",
       "      <td>0</td>\n",
       "      <td>...</td>\n",
       "      <td>0</td>\n",
       "      <td>0</td>\n",
       "      <td>1</td>\n",
       "      <td>0</td>\n",
       "      <td>0</td>\n",
       "      <td>0</td>\n",
       "      <td>1</td>\n",
       "      <td>0</td>\n",
       "      <td>1</td>\n",
       "      <td>1</td>\n",
       "    </tr>\n",
       "    <tr>\n",
       "      <th>2</th>\n",
       "      <td>-0.386521</td>\n",
       "      <td>0.015358</td>\n",
       "      <td>-1.255191</td>\n",
       "      <td>0.298781</td>\n",
       "      <td>0</td>\n",
       "      <td>0</td>\n",
       "      <td>0</td>\n",
       "      <td>0</td>\n",
       "      <td>0</td>\n",
       "      <td>0</td>\n",
       "      <td>...</td>\n",
       "      <td>0</td>\n",
       "      <td>0</td>\n",
       "      <td>0</td>\n",
       "      <td>1</td>\n",
       "      <td>0</td>\n",
       "      <td>0</td>\n",
       "      <td>0</td>\n",
       "      <td>0</td>\n",
       "      <td>1</td>\n",
       "      <td>1</td>\n",
       "    </tr>\n",
       "    <tr>\n",
       "      <th>3</th>\n",
       "      <td>1.536471</td>\n",
       "      <td>-0.496814</td>\n",
       "      <td>1.033806</td>\n",
       "      <td>0.298781</td>\n",
       "      <td>0</td>\n",
       "      <td>0</td>\n",
       "      <td>0</td>\n",
       "      <td>0</td>\n",
       "      <td>1</td>\n",
       "      <td>0</td>\n",
       "      <td>...</td>\n",
       "      <td>0</td>\n",
       "      <td>0</td>\n",
       "      <td>0</td>\n",
       "      <td>1</td>\n",
       "      <td>0</td>\n",
       "      <td>0</td>\n",
       "      <td>0</td>\n",
       "      <td>0</td>\n",
       "      <td>0</td>\n",
       "      <td>0</td>\n",
       "    </tr>\n",
       "    <tr>\n",
       "      <th>4</th>\n",
       "      <td>1.310236</td>\n",
       "      <td>-0.643149</td>\n",
       "      <td>-0.071227</td>\n",
       "      <td>-0.724092</td>\n",
       "      <td>1</td>\n",
       "      <td>0</td>\n",
       "      <td>0</td>\n",
       "      <td>0</td>\n",
       "      <td>0</td>\n",
       "      <td>0</td>\n",
       "      <td>...</td>\n",
       "      <td>0</td>\n",
       "      <td>0</td>\n",
       "      <td>0</td>\n",
       "      <td>0</td>\n",
       "      <td>0</td>\n",
       "      <td>0</td>\n",
       "      <td>0</td>\n",
       "      <td>0</td>\n",
       "      <td>0</td>\n",
       "      <td>1</td>\n",
       "    </tr>\n",
       "    <tr>\n",
       "      <th>5</th>\n",
       "      <td>-0.725873</td>\n",
       "      <td>-0.569981</td>\n",
       "      <td>-0.071227</td>\n",
       "      <td>-0.724092</td>\n",
       "      <td>0</td>\n",
       "      <td>0</td>\n",
       "      <td>1</td>\n",
       "      <td>0</td>\n",
       "      <td>0</td>\n",
       "      <td>0</td>\n",
       "      <td>...</td>\n",
       "      <td>0</td>\n",
       "      <td>0</td>\n",
       "      <td>0</td>\n",
       "      <td>0</td>\n",
       "      <td>0</td>\n",
       "      <td>0</td>\n",
       "      <td>0</td>\n",
       "      <td>0</td>\n",
       "      <td>0</td>\n",
       "      <td>1</td>\n",
       "    </tr>\n",
       "    <tr>\n",
       "      <th>6</th>\n",
       "      <td>0.179064</td>\n",
       "      <td>1.039701</td>\n",
       "      <td>-0.465882</td>\n",
       "      <td>1.321654</td>\n",
       "      <td>0</td>\n",
       "      <td>0</td>\n",
       "      <td>0</td>\n",
       "      <td>0</td>\n",
       "      <td>0</td>\n",
       "      <td>0</td>\n",
       "      <td>...</td>\n",
       "      <td>0</td>\n",
       "      <td>0</td>\n",
       "      <td>0</td>\n",
       "      <td>0</td>\n",
       "      <td>0</td>\n",
       "      <td>0</td>\n",
       "      <td>0</td>\n",
       "      <td>0</td>\n",
       "      <td>0</td>\n",
       "      <td>1</td>\n",
       "    </tr>\n",
       "    <tr>\n",
       "      <th>7</th>\n",
       "      <td>1.310236</td>\n",
       "      <td>-0.643149</td>\n",
       "      <td>-0.465882</td>\n",
       "      <td>0.298781</td>\n",
       "      <td>0</td>\n",
       "      <td>0</td>\n",
       "      <td>0</td>\n",
       "      <td>0</td>\n",
       "      <td>1</td>\n",
       "      <td>0</td>\n",
       "      <td>...</td>\n",
       "      <td>0</td>\n",
       "      <td>0</td>\n",
       "      <td>0</td>\n",
       "      <td>0</td>\n",
       "      <td>0</td>\n",
       "      <td>0</td>\n",
       "      <td>1</td>\n",
       "      <td>0</td>\n",
       "      <td>0</td>\n",
       "      <td>1</td>\n",
       "    </tr>\n",
       "    <tr>\n",
       "      <th>8</th>\n",
       "      <td>1.649588</td>\n",
       "      <td>-0.643149</td>\n",
       "      <td>-1.255191</td>\n",
       "      <td>-0.724092</td>\n",
       "      <td>0</td>\n",
       "      <td>0</td>\n",
       "      <td>0</td>\n",
       "      <td>0</td>\n",
       "      <td>0</td>\n",
       "      <td>0</td>\n",
       "      <td>...</td>\n",
       "      <td>0</td>\n",
       "      <td>0</td>\n",
       "      <td>0</td>\n",
       "      <td>0</td>\n",
       "      <td>0</td>\n",
       "      <td>0</td>\n",
       "      <td>0</td>\n",
       "      <td>0</td>\n",
       "      <td>0</td>\n",
       "      <td>1</td>\n",
       "    </tr>\n",
       "    <tr>\n",
       "      <th>9</th>\n",
       "      <td>1.875822</td>\n",
       "      <td>-0.643149</td>\n",
       "      <td>3.007079</td>\n",
       "      <td>-0.724092</td>\n",
       "      <td>0</td>\n",
       "      <td>0</td>\n",
       "      <td>1</td>\n",
       "      <td>0</td>\n",
       "      <td>0</td>\n",
       "      <td>0</td>\n",
       "      <td>...</td>\n",
       "      <td>0</td>\n",
       "      <td>0</td>\n",
       "      <td>0</td>\n",
       "      <td>0</td>\n",
       "      <td>1</td>\n",
       "      <td>0</td>\n",
       "      <td>0</td>\n",
       "      <td>0</td>\n",
       "      <td>0</td>\n",
       "      <td>0</td>\n",
       "    </tr>\n",
       "  </tbody>\n",
       "</table>\n",
       "<p>10 rows × 31 columns</p>\n",
       "</div>"
      ],
      "text/plain": [
       "        day     order     price      page  month_5  month_6  month_7  month_8  \\\n",
       "0  0.857768 -0.423647 -0.860537  1.321654        0        0        0        0   \n",
       "1  0.518416 -0.643149 -0.860537 -0.724092        1        0        0        0   \n",
       "2 -0.386521  0.015358 -1.255191  0.298781        0        0        0        0   \n",
       "3  1.536471 -0.496814  1.033806  0.298781        0        0        0        0   \n",
       "4  1.310236 -0.643149 -0.071227 -0.724092        1        0        0        0   \n",
       "5 -0.725873 -0.569981 -0.071227 -0.724092        0        0        1        0   \n",
       "6  0.179064  1.039701 -0.465882  1.321654        0        0        0        0   \n",
       "7  1.310236 -0.643149 -0.465882  0.298781        0        0        0        0   \n",
       "8  1.649588 -0.643149 -1.255191 -0.724092        0        0        0        0   \n",
       "9  1.875822 -0.643149  3.007079 -0.724092        0        0        1        0   \n",
       "\n",
       "   page 1 (main category)_2  page 1 (main category)_3  ...  colour_12  \\\n",
       "0                         0                         0  ...          0   \n",
       "1                         0                         0  ...          0   \n",
       "2                         0                         0  ...          0   \n",
       "3                         1                         0  ...          0   \n",
       "4                         0                         0  ...          0   \n",
       "5                         0                         0  ...          0   \n",
       "6                         0                         0  ...          0   \n",
       "7                         1                         0  ...          0   \n",
       "8                         0                         0  ...          0   \n",
       "9                         0                         0  ...          0   \n",
       "\n",
       "   colour_13  colour_14  location_2  location_3  location_4  location_5  \\\n",
       "0          0          0           0           0           1           0   \n",
       "1          0          1           0           0           0           1   \n",
       "2          0          0           1           0           0           0   \n",
       "3          0          0           1           0           0           0   \n",
       "4          0          0           0           0           0           0   \n",
       "5          0          0           0           0           0           0   \n",
       "6          0          0           0           0           0           0   \n",
       "7          0          0           0           0           0           1   \n",
       "8          0          0           0           0           0           0   \n",
       "9          0          0           0           1           0           0   \n",
       "\n",
       "   location_6  model photography_2  price 2_2  \n",
       "0           0                    1          1  \n",
       "1           0                    1          1  \n",
       "2           0                    1          1  \n",
       "3           0                    0          0  \n",
       "4           0                    0          1  \n",
       "5           0                    0          1  \n",
       "6           0                    0          1  \n",
       "7           0                    0          1  \n",
       "8           0                    0          1  \n",
       "9           0                    0          0  \n",
       "\n",
       "[10 rows x 31 columns]"
      ]
     },
     "execution_count": 24,
     "metadata": {},
     "output_type": "execute_result"
    }
   ],
   "source": [
    "df.head(10)"
   ]
  },
  {
   "cell_type": "code",
   "execution_count": 25,
   "metadata": {
    "tags": []
   },
   "outputs": [
    {
     "data": {
      "text/plain": [
       "PCA(copy=True, iterated_power='auto', n_components=None, random_state=None,\n",
       "  svd_solver='auto', tol=0.0, whiten=False)"
      ]
     },
     "execution_count": 25,
     "metadata": {},
     "output_type": "execute_result"
    }
   ],
   "source": [
    "#Apply PCA for dimensionality reduction\n",
    "\n",
    "pca = PCA()\n",
    "pca.fit(df)"
   ]
  },
  {
   "cell_type": "code",
   "execution_count": 26,
   "metadata": {
    "tags": []
   },
   "outputs": [
    {
     "data": {
      "text/plain": [
       "19"
      ]
     },
     "execution_count": 26,
     "metadata": {},
     "output_type": "execute_result"
    }
   ],
   "source": [
    "np.argwhere(pca.explained_variance_ratio_.cumsum() >= 0.95)[0][0] + 1"
   ]
  },
  {
   "cell_type": "markdown",
   "metadata": {},
   "source": [
    "19 components explain over 95% of variability."
   ]
  },
  {
   "cell_type": "code",
   "execution_count": 27,
   "metadata": {
    "tags": []
   },
   "outputs": [],
   "source": [
    "pca = PCA(n_components=19)\n",
    "reduced_data = pca.fit(df).transform(df)"
   ]
  },
  {
   "cell_type": "code",
   "execution_count": 28,
   "metadata": {
    "tags": []
   },
   "outputs": [
    {
     "data": {
      "text/html": [
       "<div>\n",
       "<style scoped>\n",
       "    .dataframe tbody tr th:only-of-type {\n",
       "        vertical-align: middle;\n",
       "    }\n",
       "\n",
       "    .dataframe tbody tr th {\n",
       "        vertical-align: top;\n",
       "    }\n",
       "\n",
       "    .dataframe thead th {\n",
       "        text-align: right;\n",
       "    }\n",
       "</style>\n",
       "<table border=\"1\" class=\"dataframe\">\n",
       "  <thead>\n",
       "    <tr style=\"text-align: right;\">\n",
       "      <th></th>\n",
       "      <th>Component 0</th>\n",
       "      <th>Component 1</th>\n",
       "      <th>Component 2</th>\n",
       "      <th>Component 3</th>\n",
       "      <th>Component 4</th>\n",
       "      <th>Component 5</th>\n",
       "      <th>Component 6</th>\n",
       "      <th>Component 7</th>\n",
       "      <th>Component 8</th>\n",
       "      <th>Component 9</th>\n",
       "      <th>Component 10</th>\n",
       "      <th>Component 11</th>\n",
       "      <th>Component 12</th>\n",
       "      <th>Component 13</th>\n",
       "      <th>Component 14</th>\n",
       "      <th>Component 15</th>\n",
       "      <th>Component 16</th>\n",
       "      <th>Component 17</th>\n",
       "      <th>Component 18</th>\n",
       "    </tr>\n",
       "  </thead>\n",
       "  <tbody>\n",
       "    <tr>\n",
       "      <th>0</th>\n",
       "      <td>1.439954</td>\n",
       "      <td>-0.835673</td>\n",
       "      <td>0.658487</td>\n",
       "      <td>-0.961068</td>\n",
       "      <td>0.630007</td>\n",
       "      <td>0.439382</td>\n",
       "      <td>0.144634</td>\n",
       "      <td>-0.115995</td>\n",
       "      <td>-0.205541</td>\n",
       "      <td>-0.046937</td>\n",
       "      <td>0.465806</td>\n",
       "      <td>0.573314</td>\n",
       "      <td>-0.469220</td>\n",
       "      <td>-0.024950</td>\n",
       "      <td>-0.459823</td>\n",
       "      <td>0.117850</td>\n",
       "      <td>-0.249752</td>\n",
       "      <td>-0.600456</td>\n",
       "      <td>-0.258671</td>\n",
       "    </tr>\n",
       "    <tr>\n",
       "      <th>1</th>\n",
       "      <td>0.048662</td>\n",
       "      <td>-1.486391</td>\n",
       "      <td>-0.047263</td>\n",
       "      <td>0.257257</td>\n",
       "      <td>-0.449750</td>\n",
       "      <td>0.221508</td>\n",
       "      <td>0.448507</td>\n",
       "      <td>-0.832400</td>\n",
       "      <td>-0.520213</td>\n",
       "      <td>-0.571603</td>\n",
       "      <td>0.142660</td>\n",
       "      <td>0.108164</td>\n",
       "      <td>0.010160</td>\n",
       "      <td>0.385084</td>\n",
       "      <td>0.410664</td>\n",
       "      <td>-0.301023</td>\n",
       "      <td>-0.597807</td>\n",
       "      <td>0.341872</td>\n",
       "      <td>0.524883</td>\n",
       "    </tr>\n",
       "    <tr>\n",
       "      <th>2</th>\n",
       "      <td>1.318377</td>\n",
       "      <td>-0.680427</td>\n",
       "      <td>-0.720025</td>\n",
       "      <td>-0.094388</td>\n",
       "      <td>0.439984</td>\n",
       "      <td>-0.205284</td>\n",
       "      <td>-0.039222</td>\n",
       "      <td>-0.695615</td>\n",
       "      <td>0.452856</td>\n",
       "      <td>-0.179847</td>\n",
       "      <td>-0.278473</td>\n",
       "      <td>0.485085</td>\n",
       "      <td>0.309770</td>\n",
       "      <td>0.013674</td>\n",
       "      <td>0.052771</td>\n",
       "      <td>0.314701</td>\n",
       "      <td>0.639366</td>\n",
       "      <td>-0.151447</td>\n",
       "      <td>0.371350</td>\n",
       "    </tr>\n",
       "    <tr>\n",
       "      <th>3</th>\n",
       "      <td>-0.890584</td>\n",
       "      <td>0.050532</td>\n",
       "      <td>1.746972</td>\n",
       "      <td>-0.610322</td>\n",
       "      <td>-0.129115</td>\n",
       "      <td>0.070458</td>\n",
       "      <td>-0.555982</td>\n",
       "      <td>-0.310337</td>\n",
       "      <td>0.712519</td>\n",
       "      <td>0.020213</td>\n",
       "      <td>-0.648800</td>\n",
       "      <td>-0.093780</td>\n",
       "      <td>-0.069370</td>\n",
       "      <td>-0.116972</td>\n",
       "      <td>-0.123163</td>\n",
       "      <td>0.322855</td>\n",
       "      <td>-0.164290</td>\n",
       "      <td>-0.140556</td>\n",
       "      <td>0.079405</td>\n",
       "    </tr>\n",
       "    <tr>\n",
       "      <th>4</th>\n",
       "      <td>-0.706418</td>\n",
       "      <td>-1.287224</td>\n",
       "      <td>0.882731</td>\n",
       "      <td>0.367694</td>\n",
       "      <td>-0.052162</td>\n",
       "      <td>-0.348157</td>\n",
       "      <td>-0.705245</td>\n",
       "      <td>-0.352667</td>\n",
       "      <td>-0.657968</td>\n",
       "      <td>-0.193267</td>\n",
       "      <td>0.431541</td>\n",
       "      <td>-0.090928</td>\n",
       "      <td>-0.088836</td>\n",
       "      <td>0.292625</td>\n",
       "      <td>0.077264</td>\n",
       "      <td>-0.022863</td>\n",
       "      <td>-0.001131</td>\n",
       "      <td>0.018498</td>\n",
       "      <td>-0.134780</td>\n",
       "    </tr>\n",
       "  </tbody>\n",
       "</table>\n",
       "</div>"
      ],
      "text/plain": [
       "   Component 0  Component 1  Component 2  Component 3  Component 4  \\\n",
       "0     1.439954    -0.835673     0.658487    -0.961068     0.630007   \n",
       "1     0.048662    -1.486391    -0.047263     0.257257    -0.449750   \n",
       "2     1.318377    -0.680427    -0.720025    -0.094388     0.439984   \n",
       "3    -0.890584     0.050532     1.746972    -0.610322    -0.129115   \n",
       "4    -0.706418    -1.287224     0.882731     0.367694    -0.052162   \n",
       "\n",
       "   Component 5  Component 6  Component 7  Component 8  Component 9  \\\n",
       "0     0.439382     0.144634    -0.115995    -0.205541    -0.046937   \n",
       "1     0.221508     0.448507    -0.832400    -0.520213    -0.571603   \n",
       "2    -0.205284    -0.039222    -0.695615     0.452856    -0.179847   \n",
       "3     0.070458    -0.555982    -0.310337     0.712519     0.020213   \n",
       "4    -0.348157    -0.705245    -0.352667    -0.657968    -0.193267   \n",
       "\n",
       "   Component 10  Component 11  Component 12  Component 13  Component 14  \\\n",
       "0      0.465806      0.573314     -0.469220     -0.024950     -0.459823   \n",
       "1      0.142660      0.108164      0.010160      0.385084      0.410664   \n",
       "2     -0.278473      0.485085      0.309770      0.013674      0.052771   \n",
       "3     -0.648800     -0.093780     -0.069370     -0.116972     -0.123163   \n",
       "4      0.431541     -0.090928     -0.088836      0.292625      0.077264   \n",
       "\n",
       "   Component 15  Component 16  Component 17  Component 18  \n",
       "0      0.117850     -0.249752     -0.600456     -0.258671  \n",
       "1     -0.301023     -0.597807      0.341872      0.524883  \n",
       "2      0.314701      0.639366     -0.151447      0.371350  \n",
       "3      0.322855     -0.164290     -0.140556      0.079405  \n",
       "4     -0.022863     -0.001131      0.018498     -0.134780  "
      ]
     },
     "execution_count": 28,
     "metadata": {},
     "output_type": "execute_result"
    }
   ],
   "source": [
    "pca_data = pd.DataFrame(reduced_data, columns=[f'Component {i}' for i in range(reduced_data.shape[1])]).head()\n",
    "pca_data.head(10)"
   ]
  },
  {
   "cell_type": "markdown",
   "metadata": {},
   "source": [
    "Given that the PCA resulted in a reduced dataset of only five rows, we have made the decision to proceed with the original dataset in its original form and after applying standard scaling, without applying dimensionality reduction. This approach allows us to retain the complete set of features and better capture the inherent characteristics of the data."
   ]
  },
  {
   "cell_type": "markdown",
   "metadata": {},
   "source": [
    "# 2. Objectives\n"
   ]
  },
  {
   "cell_type": "markdown",
   "metadata": {},
   "source": [
    "In this analysis, we have employed three different classification models to classify the data. Following the classification phase, we have proceeded with a linear regression analysis on both the original dataset and individual groups derived from each classification model. The objective of this analysis is to compare the performance and predictive capabilities of the models on the overall dataset and the separate groups.\n",
    "\n"
   ]
  },
  {
   "cell_type": "markdown",
   "metadata": {},
   "source": [
    "# 3. Clustering Models\n"
   ]
  },
  {
   "cell_type": "markdown",
   "metadata": {},
   "source": [
    "### K Means Clusstering"
   ]
  },
  {
   "cell_type": "code",
   "execution_count": 29,
   "metadata": {
    "tags": []
   },
   "outputs": [],
   "source": [
    "km_list = list()\n",
    "\n",
    "for clust in range(1,21):\n",
    "    km = KMeans(n_clusters=clust, random_state=42)\n",
    "    km = km.fit(df)\n",
    "    \n",
    "    km_list.append(pd.Series({'clusters': clust, \n",
    "                              'inertia': km.inertia_,\n",
    "                              'model': km}))"
   ]
  },
  {
   "cell_type": "code",
   "execution_count": 30,
   "metadata": {
    "tags": []
   },
   "outputs": [
    {
     "data": {
      "image/png": "[encoded data removed]",
      "text/plain": [
       "<Figure size 640x480 with 1 Axes>"
      ]
     },
     "metadata": {},
     "output_type": "display_data"
    }
   ],
   "source": [
    "plot_data = (pd.concat(km_list, axis=1)\n",
    "             .T\n",
    "             [['clusters','inertia']]\n",
    "             .set_index('clusters'))\n",
    "\n",
    "ax = plot_data.plot(marker='o',ls='-')\n",
    "ax.set_xticks(range(0,21,2))\n",
    "ax.set_xlim(0,21)\n",
    "ax.set(xlabel='Cluster', ylabel='Inertia');"
   ]
  },
  {
   "cell_type": "code",
   "execution_count": 31,
   "metadata": {
    "tags": []
   },
   "outputs": [],
   "source": [
    "km_model = KMeans(n_clusters=6, random_state=123)\n",
    "km_model = km_model.fit(df)"
   ]
  },
  {
   "cell_type": "code",
   "execution_count": 32,
   "metadata": {
    "tags": []
   },
   "outputs": [],
   "source": [
    "km_labels = km_model.labels_"
   ]
  },
  {
   "cell_type": "markdown",
   "metadata": {},
   "source": [
    "In our analysis, we have plotted the graph of the number of clusters against the inertia values.By examining the graph, we observe an elbow point at 6 clusters, indicating decrease in inertia beyond this point.Based on this observation, we have decided to develop a K-means clustering model using 6 clusters. We proceed to fit the model the original and scaled dataframe."
   ]
  },
  {
   "cell_type": "markdown",
   "metadata": {},
   "source": [
    "### DBSCAN Clustering"
   ]
  },
  {
   "cell_type": "code",
   "execution_count": 33,
   "metadata": {
    "tags": []
   },
   "outputs": [],
   "source": [
    "eps_values = [0.5, 1.0, 1.5]\n",
    "min_samples_values = [5, 10, 15]\n",
    "\n",
    "best_score = -1  # Initialize the best score\n",
    "best_eps = None\n",
    "best_min_samples = None\n",
    "\n",
    "for eps in eps_values:\n",
    "    for min_samples in min_samples_values:\n",
    "        dbscan = DBSCAN(eps=eps, min_samples=min_samples)\n",
    "        labels = dbscan.fit_predict(df)\n",
    "        score = metrics.silhouette_score(df, labels)\n",
    "        if score > best_score:\n",
    "            best_score = score\n",
    "            best_eps = eps\n",
    "            best_min_samples = min_samples"
   ]
  },
  {
   "cell_type": "code",
   "execution_count": 34,
   "metadata": {
    "tags": []
   },
   "outputs": [],
   "source": [
    "dbscan_model = DBSCAN(eps=best_eps, min_samples=best_min_samples)\n",
    "dbscan_model.fit(df)\n",
    "dbscan_labels = dbscan_model.fit_predict(df)"
   ]
  },
  {
   "cell_type": "code",
   "execution_count": 35,
   "metadata": {
    "tags": []
   },
   "outputs": [
    {
     "name": "stdout",
     "output_type": "stream",
     "text": [
      "Estimated number of clusters: 50\n"
     ]
    }
   ],
   "source": [
    "n_clusters = len(set(labels)) - (1 if -1 in labels else 0)\n",
    "print(f\"Estimated number of clusters: {n_clusters}\")"
   ]
  },
  {
   "cell_type": "markdown",
   "metadata": {},
   "source": [
    "We have used the DBSCAN clustering algorithm, which requires setting two important parameters: epsilon and min_samples (minimum number of data points required to form a dense region or neighborhood). To determine the best values for these parameters, we performed an evaluation using various combinations of epsilon and min_samples. After finding the best parameter values, we developed a DBSCAN model using these specific parameters. This model was then fitted on our dataset, and upon evaluation, we found that the best model resulted in 50 clusters."
   ]
  },
  {
   "cell_type": "markdown",
   "metadata": {},
   "source": [
    "### Agglomerative Clustering"
   ]
  },
  {
   "cell_type": "code",
   "execution_count": 36,
   "metadata": {
    "tags": []
   },
   "outputs": [],
   "source": [
    "distance_matrix = gower_matrix(df)"
   ]
  },
  {
   "cell_type": "code",
   "execution_count": 37,
   "metadata": {
    "tags": []
   },
   "outputs": [
    {
     "data": {
      "image/png": "[encoded data removed]",
      "text/plain": [
       "<Figure size 640x480 with 1 Axes>"
      ]
     },
     "metadata": {},
     "output_type": "display_data"
    }
   ],
   "source": [
    "condensed_distance = squareform(distance_matrix)\n",
    "linkage_matrix = linkage(condensed_distance, method='ward')\n",
    "\n",
    "dendrogram(linkage_matrix)\n",
    "plt.xlabel('Samples')\n",
    "plt.ylabel('Distance')\n",
    "plt.title('Dendrogram')\n",
    "plt.show()"
   ]
  },
  {
   "cell_type": "code",
   "execution_count": 38,
   "metadata": {
    "tags": []
   },
   "outputs": [
    {
     "name": "stdout",
     "output_type": "stream",
     "text": [
      "Selected Threshold: 6.296974221097703\n"
     ]
    }
   ],
   "source": [
    "merge_distances = linkage_matrix[:, 2]\n",
    "differences = np.diff(merge_distances)\n",
    "\n",
    "# Identify the threshold\n",
    "threshold_index = np.argmax(differences) + 1\n",
    "threshold = merge_distances[threshold_index]\n",
    "print(\"Selected Threshold:\", threshold)"
   ]
  },
  {
   "cell_type": "code",
   "execution_count": 39,
   "metadata": {
    "tags": []
   },
   "outputs": [],
   "source": [
    "n_clusters = 6\n",
    "clustering = AgglomerativeClustering(n_clusters=n_clusters, affinity='precomputed', linkage='complete')\n",
    "agg_labels = clustering.fit_predict(distance_matrix)"
   ]
  },
  {
   "cell_type": "markdown",
   "metadata": {},
   "source": [
    "We utilized agglomerative clustering with the Gower distance metric. The Gower distance is a measure used to calculate the dissimilarity between observations in datasets that contain both numerical and categorical variables. It takes into account the different data types and their respective distances.\n",
    "\n",
    "To determine the best number of clusters for our agglomerative clustering model, we initially plotted a dendrogram. However, due to the complexity and possibly large size of the dataset, the dendrogram might have been unreadable or difficult to interpret. As an alternative approach, we decided to set a specific threshold to cut the dendrogram and determine the number of clusters and we found that setting the threshold to achieve 6 clusters yielded the best results for our analysis. Once we determined the optimal number of clusters, we proceeded to fit the agglomerative clustering model with the specified number of clusters."
   ]
  },
  {
   "cell_type": "markdown",
   "metadata": {},
   "source": [
    "### Linear Regression"
   ]
  },
  {
   "cell_type": "markdown",
   "metadata": {},
   "source": [
    "In this section, we will conduct simple linear regression on the original dataset and the individual groups obtained from the previous three clustering models. To evaluate the performance of the linear regression models, we will calculate two metrics: Mean Absolute Error (MAE) and R-squared (R2). "
   ]
  },
  {
   "cell_type": "code",
   "execution_count": 40,
   "metadata": {
    "tags": []
   },
   "outputs": [],
   "source": [
    "X = df.drop('price', axis=1)\n",
    "y = df['price']"
   ]
  },
  {
   "cell_type": "code",
   "execution_count": 41,
   "metadata": {
    "tags": []
   },
   "outputs": [
    {
     "data": {
      "text/plain": [
       "LinearRegression(copy_X=True, fit_intercept=True, n_jobs=None,\n",
       "         normalize=False)"
      ]
     },
     "execution_count": 41,
     "metadata": {},
     "output_type": "execute_result"
    }
   ],
   "source": [
    "lm = LinearRegression()\n",
    "lm.fit(X, y)"
   ]
  },
  {
   "cell_type": "code",
   "execution_count": 42,
   "metadata": {
    "tags": []
   },
   "outputs": [],
   "source": [
    "predictions = lm.predict(X)"
   ]
  },
  {
   "cell_type": "code",
   "execution_count": 43,
   "metadata": {
    "tags": []
   },
   "outputs": [
    {
     "name": "stdout",
     "output_type": "stream",
     "text": [
      "Mean Absolute Error (MAE): 0.30046867013438333\n",
      "R-squared (R²) Score: 0.8385699830489415\n"
     ]
    }
   ],
   "source": [
    "mae = mean_absolute_error(y, predictions)\n",
    "print(\"Mean Absolute Error (MAE):\", mae)\n",
    "\n",
    "r2 = r2_score(y, predictions)\n",
    "print(\"R-squared (R²) Score:\", r2)"
   ]
  },
  {
   "cell_type": "code",
   "execution_count": 44,
   "metadata": {
    "tags": []
   },
   "outputs": [],
   "source": [
    "labels = {'km_labels': km_labels,\n",
    "          'dbscan_labels': dbscan_labels,\n",
    "          'agg_labels': agg_labels}\n",
    "\n",
    "df = df.assign(**labels)"
   ]
  },
  {
   "cell_type": "code",
   "execution_count": 45,
   "metadata": {
    "tags": []
   },
   "outputs": [],
   "source": [
    "def filter_dataframe(df, column, values):\n",
    "    filtered_df = df[df[column].isin(values)]\n",
    "    return filtered_df"
   ]
  },
  {
   "cell_type": "code",
   "execution_count": 46,
   "metadata": {
    "tags": []
   },
   "outputs": [],
   "source": [
    "def group_regression(df, column):\n",
    "    \n",
    "    mae_values = []\n",
    "    r2_score_values = []\n",
    "    \n",
    "    for i in df[column].unique():\n",
    "        filtered_df = filter_dataframe(df, column, [i])\n",
    "        X = filtered_df.drop('price', axis=1)\n",
    "        y = filtered_df['price']\n",
    "        lm = LinearRegression()\n",
    "        lm.fit(X,y)\n",
    "        predictions = lm.predict(X)\n",
    "        mae = mean_absolute_error(y, predictions)\n",
    "        r2 = r2_score(y, predictions)\n",
    "        mae_values.append(mae)\n",
    "        r2_score_values.append(r2)\n",
    "        \n",
    "    print('average mae: ',sum(mae_values)/len(mae_values))\n",
    "    print('average r2: ',sum(r2_score_values)/len(r2_score_values))"
   ]
  },
  {
   "cell_type": "code",
   "execution_count": 47,
   "metadata": {
    "tags": []
   },
   "outputs": [
    {
     "name": "stdout",
     "output_type": "stream",
     "text": [
      "average mae:  0.2543146511436738\n",
      "average r2:  0.7154373988894486\n"
     ]
    }
   ],
   "source": [
    "group_regression(df, 'km_labels')"
   ]
  },
  {
   "cell_type": "code",
   "execution_count": 48,
   "metadata": {
    "tags": []
   },
   "outputs": [
    {
     "name": "stdout",
     "output_type": "stream",
     "text": [
      "average mae:  0.021011094957094058\n",
      "average r2:  0.4060688542056474\n"
     ]
    }
   ],
   "source": [
    "group_regression(df, 'dbscan_labels')"
   ]
  },
  {
   "cell_type": "code",
   "execution_count": 49,
   "metadata": {
    "tags": []
   },
   "outputs": [
    {
     "name": "stdout",
     "output_type": "stream",
     "text": [
      "average mae:  0.17856264783322248\n",
      "average r2:  0.8840614136508312\n"
     ]
    }
   ],
   "source": [
    "group_regression(df, 'agg_labels')"
   ]
  },
  {
   "cell_type": "markdown",
   "metadata": {},
   "source": [
    "# 4. Insights and key findings\n"
   ]
  },
  {
   "cell_type": "code",
   "execution_count": 50,
   "metadata": {
    "tags": []
   },
   "outputs": [],
   "source": [
    "#Compare models\n",
    "\n",
    "comp_data = {'MAE' : [0.30,0.25,0.02,0.18],\n",
    "            'R2' : [0.84,0.72,0.41,0.88]}\n",
    "row_names = ['simple_reg', 'k_means', 'DBSCAN', 'agg_clust']\n",
    "\n",
    "comp_table = pd.DataFrame(comp_data, index=row_names)"
   ]
  },
  {
   "cell_type": "code",
   "execution_count": 51,
   "metadata": {
    "tags": []
   },
   "outputs": [
    {
     "data": {
      "text/html": [
       "<div>\n",
       "<style scoped>\n",
       "    .dataframe tbody tr th:only-of-type {\n",
       "        vertical-align: middle;\n",
       "    }\n",
       "\n",
       "    .dataframe tbody tr th {\n",
       "        vertical-align: top;\n",
       "    }\n",
       "\n",
       "    .dataframe thead th {\n",
       "        text-align: right;\n",
       "    }\n",
       "</style>\n",
       "<table border=\"1\" class=\"dataframe\">\n",
       "  <thead>\n",
       "    <tr style=\"text-align: right;\">\n",
       "      <th></th>\n",
       "      <th>MAE</th>\n",
       "      <th>R2</th>\n",
       "    </tr>\n",
       "  </thead>\n",
       "  <tbody>\n",
       "    <tr>\n",
       "      <th>simple_reg</th>\n",
       "      <td>0.30</td>\n",
       "      <td>0.84</td>\n",
       "    </tr>\n",
       "    <tr>\n",
       "      <th>k_means</th>\n",
       "      <td>0.25</td>\n",
       "      <td>0.72</td>\n",
       "    </tr>\n",
       "    <tr>\n",
       "      <th>DBSCAN</th>\n",
       "      <td>0.02</td>\n",
       "      <td>0.41</td>\n",
       "    </tr>\n",
       "    <tr>\n",
       "      <th>agg_clust</th>\n",
       "      <td>0.18</td>\n",
       "      <td>0.88</td>\n",
       "    </tr>\n",
       "  </tbody>\n",
       "</table>\n",
       "</div>"
      ],
      "text/plain": [
       "             MAE    R2\n",
       "simple_reg  0.30  0.84\n",
       "k_means     0.25  0.72\n",
       "DBSCAN      0.02  0.41\n",
       "agg_clust   0.18  0.88"
      ]
     },
     "execution_count": 51,
     "metadata": {},
     "output_type": "execute_result"
    }
   ],
   "source": [
    "comp_table"
   ]
  },
  {
   "cell_type": "markdown",
   "metadata": {},
   "source": [
    "Based on the comparative table, it is evident that the agglomerative clustering model achieves the lowest MAE and the highest R2 score among the evaluated models. The DBSCAN model exhibits a low MAE and a low R2 score which means that the model's predictions are not accurate and the predictor variables have limited ability to explain the variance in the target variable. The regression on individual groups derived from k-means does not demonstrate a significant improvement over the simple regression performed on the entire dataset.\n",
    "\n",
    "In summary, the agglomerative clustering model emerges as the most favorable choice based on the comparative evaluation, exhibiting superior performance in terms of MAE and R2 compared to other models."
   ]
  },
  {
   "cell_type": "markdown",
   "metadata": {},
   "source": [
    "# 5. Next Steps\n"
   ]
  },
  {
   "cell_type": "markdown",
   "metadata": {},
   "source": [
    "In our analysis, we utilize agglomerative clustering to group data into distinct clusters. This clustering allows us to predict prices for specific data categories based on various features such as product category, color, model, and the page and position of the item on the web page. These predictions hold valuable insights for digital advertising purposes."
   ]
  },
  {
   "cell_type": "markdown",
   "metadata": {},
   "source": [
    "*£apczyñski M., Bia³ow¹s S. (2013) Discovering Patterns of Users' Behaviour in an E-shop - \n",
    "Comparison of Consumer Buying Behaviours in Poland and Other European Countries, \n",
    "“Studia Ekonomiczne”, nr 151, “La société de l'information : perspective européenne et \n",
    "globale : les usages et les risques d'Internet pour les citoyens et les consommateurs”, p. 144-\n",
    "153."
   ]
  },
  {
   "cell_type": "markdown",
   "metadata": {},
   "source": [
    "## <h3 align=\"center\"> © IBM Corporation 2020. All rights reserved. <h3/>\n"
   ]
  }
 ],
 "metadata": {
  "kernelspec": {
   "display_name": "Python",
   "language": "python",
   "name": "conda-env-python-py"
  },
  "language_info": {
   "codemirror_mode": {
    "name": "ipython",
    "version": 3
   },
   "file_extension": ".py",
   "mimetype": "text/x-python",
   "name": "python",
   "nbconvert_exporter": "python",
   "pygments_lexer": "ipython3",
   "version": "3.7.12"
  }
 },
 "nbformat": 4,
 "nbformat_minor": 4
}
